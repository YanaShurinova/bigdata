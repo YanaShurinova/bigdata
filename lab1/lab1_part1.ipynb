{
 "cells": [
  {
   "cell_type": "code",
   "execution_count": 1,
   "id": "5a773b16-1649-4b9a-861e-11187d109e2d",
   "metadata": {},
   "outputs": [],
   "source": [
    "from pyspark import SparkContext, SparkConf \n",
    "from pyspark.sql import SparkSession\n",
    "import pyspark.sql as sql"
   ]
  },
  {
   "cell_type": "code",
   "execution_count": 2,
   "id": "9dff7d38-7d3f-47d7-bade-f694deca521f",
   "metadata": {},
   "outputs": [],
   "source": [
    "conf = SparkConf().setAppName(\"Lab1\").setMaster('yarn')"
   ]
  },
  {
   "cell_type": "code",
   "execution_count": 3,
   "id": "d9804f64-d808-4e85-ac45-25b3c124fd09",
   "metadata": {},
   "outputs": [],
   "source": [
    "sc = SparkContext(conf=conf)\n",
    "spark = SparkSession(sc)"
   ]
  },
  {
   "cell_type": "code",
   "execution_count": 4,
   "id": "34fc46e2-b9d7-4af4-8b9d-a8ea3c67b3a2",
   "metadata": {},
   "outputs": [
    {
     "name": "stdout",
     "output_type": "stream",
     "text": [
      "Found 4 items\n",
      "drwxr-xr-x   - yanashurinova yanashurinova          1 2023-11-08 16:09 .sparkStaging\n",
      "-rwxr-xr-x   3 yanashurinova yanashurinova       5647 2023-11-08 15:53 station.csv\n",
      "-rwxr-xr-x   3 yanashurinova yanashurinova   80208848 2023-11-08 15:53 trip.csv\n",
      "-rwxr-xr-x   3 yanashurinova yanashurinova     438063 2023-11-08 15:55 weather.csv\n"
     ]
    }
   ],
   "source": [
    "!hadoop fs -ls"
   ]
  },
  {
   "cell_type": "code",
   "execution_count": 4,
   "id": "63c87651-40a1-46dc-a312-9c5b5e624765",
   "metadata": {},
   "outputs": [
    {
     "name": "stdout",
     "output_type": "stream",
     "text": [
      "12851\n"
     ]
    }
   ],
   "source": [
    "warandpeace = sc.textFile(\"warandsociety.txt\")\n",
    "print(warandpeace.count())"
   ]
  },
  {
   "cell_type": "code",
   "execution_count": 5,
   "id": "6668e127-474a-4627-b2bf-0300a5c3927c",
   "metadata": {},
   "outputs": [
    {
     "data": {
      "text/plain": [
       "['Лев Николаевич Толстой',\n",
       " 'Война и мир. Книга 1',\n",
       " '',\n",
       " 'Война и мир – 1',\n",
       " '',\n",
       " ' ',\n",
       " ' http://www.lib.ru',\n",
       " '',\n",
       " 'Аннотация ',\n",
       " '']"
      ]
     },
     "execution_count": 5,
     "metadata": {},
     "output_type": "execute_result"
    }
   ],
   "source": [
    "nilFile = sc.textFile(\"nil\")\n",
    "warandpeace.take(10)"
   ]
  },
  {
   "cell_type": "code",
   "execution_count": 6,
   "id": "7917c2aa-cab4-46f6-9898-a7434723f2f6",
   "metadata": {},
   "outputs": [
    {
     "data": {
      "text/plain": [
       "\"– Еh bien, mon prince. Genes et Lucques ne sont plus que des apanages, des поместья, de la famille Buonaparte. Non, je vous previens, que si vous ne me dites pas, que nous avons la guerre, si vous vous permettez encore de pallier toutes les infamies, toutes les atrocites de cet Antichrist (ma parole, j'y crois) – je ne vous connais plus, vous n'etes plus mon ami, vous n'etes plus мой верный раб, comme vous dites. [Ну, что, князь, Генуа и Лукка стали не больше, как поместьями фамилии Бонапарте. Нет, я вас предупреждаю, если вы мне не скажете, что у нас война, если вы еще позволите себе защищать все гадости, все ужасы этого Антихриста (право, я верю, что он Антихрист) – я вас больше не знаю, вы уж не друг мой, вы уж не мой верный раб, как вы говорите.] Ну, здравствуйте, здравствуйте. Je vois que je vous fais peur, [Я вижу, что я вас пугаю,] садитесь и рассказывайте.\""
      ]
     },
     "execution_count": 6,
     "metadata": {},
     "output_type": "execute_result"
    }
   ],
   "source": [
    "linesWithWar = warandpeace.filter(lambda x: \"война\" in x)\n",
    "linesWithWar.first()"
   ]
  },
  {
   "cell_type": "code",
   "execution_count": 7,
   "id": "255cf3a3-d424-428b-aa0a-ce1814bb3e15",
   "metadata": {},
   "outputs": [
    {
     "name": "stdout",
     "output_type": "stream",
     "text": [
      "Elapsed time: 8914308 ns\n",
      "Elapsed time: 10319094 ns\n"
     ]
    }
   ],
   "source": [
    "def time(f):    \n",
    "    import time\n",
    "    t = time.process_time()\n",
    "    f()\n",
    "    print(f\"Elapsed time: {int((time.process_time() - t)*1e9)} ns\")\n",
    "\n",
    "linesWithWar.cache()\n",
    "time(lambda: linesWithWar.count())\n",
    "time(lambda: linesWithWar.count())"
   ]
  },
  {
   "cell_type": "code",
   "execution_count": 8,
   "id": "be6bc840-7c4e-4f2c-9c8c-115d134c2d68",
   "metadata": {},
   "outputs": [],
   "source": [
    "wordCounts = linesWithWar.flatMap(lambda line: line.split(\" \")).map(lambda word: (word, 1)).reduceByKey(lambda a, b: a + b)\n"
   ]
  },
  {
   "cell_type": "code",
   "execution_count": 11,
   "id": "2007bf08-8907-4eaa-ae2e-4b771c166de0",
   "metadata": {},
   "outputs": [],
   "source": [
    "wordCounts.saveAsTextFile(\"warandpeace_histogram2.txt\")"
   ]
  },
  {
   "cell_type": "code",
   "execution_count": 12,
   "id": "97251f04-9e19-4779-91a3-10ddbd96d8f5",
   "metadata": {},
   "outputs": [
    {
     "data": {
      "text/plain": [
       "[\"('–', 92)\",\n",
       " \"('bien,', 1)\",\n",
       " \"('Genes', 1)\",\n",
       " \"('et', 4)\",\n",
       " \"('Lucques', 1)\",\n",
       " \"('ne', 4)\",\n",
       " \"('plus', 3)\",\n",
       " \"('apanages,', 1)\",\n",
       " \"('de', 13)\",\n",
       " \"('la', 6)\"]"
      ]
     },
     "execution_count": 12,
     "metadata": {},
     "output_type": "execute_result"
    }
   ],
   "source": [
    "temp = sc.textFile(\"warandpeace_histogram2.txt\")\n",
    "temp.take(10)"
   ]
  },
  {
   "cell_type": "code",
   "execution_count": 13,
   "id": "f300a2d2-9af6-449d-8f49-d9376cf68f06",
   "metadata": {},
   "outputs": [],
   "source": [
    "#!hadoop fs -cat warandpeace_histogram.txt/*\n"
   ]
  },
  {
   "cell_type": "code",
   "execution_count": null,
   "id": "ceb4af12-85a2-411c-b496-9c858353f373",
   "metadata": {},
   "outputs": [],
   "source": [
    "ОПЕРАЦИИ С МНОЖЕСТВАМИ\n"
   ]
  },
  {
   "cell_type": "code",
   "execution_count": 14,
   "id": "287bd428-f35c-47e7-9e10-d44ac81e2747",
   "metadata": {},
   "outputs": [],
   "source": [
    "a = sc.parallelize([1,2,3,4])\n",
    "b = sc.parallelize([3,4,6,7])\n"
   ]
  },
  {
   "cell_type": "code",
   "execution_count": 15,
   "id": "777b6d78-de9a-4351-9edb-565e6b2e4169",
   "metadata": {},
   "outputs": [
    {
     "data": {
      "text/plain": [
       "[4, 1, 2, 6, 3, 7]"
      ]
     },
     "execution_count": 15,
     "metadata": {},
     "output_type": "execute_result"
    }
   ],
   "source": [
    "a.union(b).distinct().collect()"
   ]
  },
  {
   "cell_type": "code",
   "execution_count": 16,
   "id": "9d285b8c-e2f9-401a-b7c5-6cdecfee9078",
   "metadata": {},
   "outputs": [
    {
     "data": {
      "text/plain": [
       "[4, 3]"
      ]
     },
     "execution_count": 16,
     "metadata": {},
     "output_type": "execute_result"
    }
   ],
   "source": [
    "a.intersection(b).collect()"
   ]
  },
  {
   "cell_type": "code",
   "execution_count": 17,
   "id": "985d08c9-4551-409d-9a43-7b118bc30e9f",
   "metadata": {},
   "outputs": [
    {
     "data": {
      "text/plain": [
       "[1, 2]"
      ]
     },
     "execution_count": 17,
     "metadata": {},
     "output_type": "execute_result"
    }
   ],
   "source": [
    "a.subtract(b).collect()"
   ]
  },
  {
   "cell_type": "code",
   "execution_count": 18,
   "id": "e68369be-8fc1-49af-b0e9-8f144cc0bb0b",
   "metadata": {},
   "outputs": [
    {
     "data": {
      "text/plain": [
       "[1, 2, 3]"
      ]
     },
     "execution_count": 18,
     "metadata": {},
     "output_type": "execute_result"
    }
   ],
   "source": [
    "broadcastVar = sc.broadcast([1,2,3])\n",
    "broadcastVar.value"
   ]
  },
  {
   "cell_type": "code",
   "execution_count": 19,
   "id": "22176e1c-b144-478c-b506-4048d158e1ac",
   "metadata": {},
   "outputs": [
    {
     "data": {
      "text/plain": [
       "10"
      ]
     },
     "execution_count": 19,
     "metadata": {},
     "output_type": "execute_result"
    }
   ],
   "source": [
    "accum = sc.accumulator(0)\n",
    "sc.parallelize([1,2,3,4]).foreach(lambda x: accum.add(x))\n",
    "accum.value"
   ]
  },
  {
   "cell_type": "code",
   "execution_count": 20,
   "id": "e52b8513-3746-4855-9f77-35b09079e604",
   "metadata": {},
   "outputs": [
    {
     "name": "stdout",
     "output_type": "stream",
     "text": [
      "a b\n"
     ]
    }
   ],
   "source": [
    "pair = ('a', 'b')\n",
    "print(pair[0], pair[1])"
   ]
  },
  {
   "cell_type": "code",
   "execution_count": 21,
   "id": "0c4cc31a-d92f-447d-a809-2d21e3853b04",
   "metadata": {},
   "outputs": [
    {
     "name": "stdout",
     "output_type": "stream",
     "text": [
      "\"29b3f4a30dea6688d4c289c9672cb996\",\"1-ddfdec8050c7ef4dc694eeeda6c4625e\",\"2013-01-11 22:03:00\",+4.07033460000000E+001,-7.40144200000000E+001,\"A93D1F7F8998FFB75EEF477EB6077516\",\"68BC16A99E915E44ADA7E639B4DD5F59\",2,\"2013-01-11 21:48:00\",+4.06760670000000E+001,-7.39810790000000E+001,1,,+4.08000000000000E+000,900,\"VTS\"\n",
      "\"2a80cfaa425dcec0861e02ae44354500\",\"1-b72234b58a7b0018a1ec5d2ea0797e32\",\"2013-01-11 04:28:00\",+4.08190960000000E+001,-7.39467470000000E+001,\"64CE1B03FDE343BB8DFB512123A525A4\",\"60150AA39B2F654ED6F0C3AF8174A48A\",1,\"2013-01-11 04:07:00\",+4.07280540000000E+001,-7.40020370000000E+001,1,,+8.53000000000000E+000,1260,\"VTS\"\n",
      "\"29b3f4a30dea6688d4c289c96758d87e\",\"1-387ec30eac5abda89d2abefdf947b2c1\",\"2013-01-11 22:02:00\",+4.07277180000000E+001,-7.39942860000000E+001,\"2D73B0C44F1699C67AB8AE322433BDB7\",\"6F907BC9A85B7034C8418A24A0A75489\",5,\"2013-01-11 21:46:00\",+4.07577480000000E+001,-7.39649810000000E+001,1,,+3.01000000000000E+000,960,\"VTS\"\n",
      "\"2a80cfaa425dcec0861e02ae446226e4\",\"1-aa8b16d6ae44ad906a46cc6581ffea50\",\"2013-01-11 10:03:00\",+4.07643050000000E+001,-7.39544600000000E+001,\"E90018250F0A009433F03BD1E4A4CE53\",\"1AFFD48CC07161DA651625B562FE4D06\",5,\"2013-01-11 09:44:00\",+4.07308080000000E+001,-7.39928280000000E+001,1,,+3.64000000000000E+000,1140,\"VTS\"\n",
      "\"29b3f4a30dea6688d4c289c9675a019c\",\"1-dc8295eae03262a84370b8a6450eb38e\",\"2013-01-11 22:02:00\",+4.07294460000000E+001,-7.39777980000000E+001,\"A4905117273C479965F469A85DE2363D\",\"8BF138EA0CF6FF83587993BECA6D6D59\",1,\"2013-01-11 21:48:00\",+4.07672460000000E+001,-7.39845350000000E+001,1,,+3.69000000000000E+000,840,\"VTS\"\n"
     ]
    }
   ],
   "source": [
    "import itertools\n",
    "taxi = sc.textFile(\"nyctaxi.csv\")\n",
    "taxi=taxi.mapPartitionsWithIndex(lambda idx, it:  itertools.islice(it,1,None) if (idx==0) else it  )\n",
    "for t in taxi.take(5):\n",
    "    print(t)\n"
   ]
  },
  {
   "cell_type": "code",
   "execution_count": 22,
   "id": "a5c0b5c5-23f2-432e-9c20-a5937baba7c2",
   "metadata": {},
   "outputs": [
    {
     "name": "stdout",
     "output_type": "stream",
     "text": [
      "('\"AB44AD9A03B7CFAF3925103BDCC0AF23\"', 44)\n",
      "('\"71CACFBADF9568AAE88A843DB511D172\"', 41)\n",
      "('\"6483B9BFCB216EC88986EA3AB13064E7\"', 41)\n",
      "('\"4C73459B430339981D78795300433438\"', 41)\n",
      "('\"67E71D24AF704D814A0A825005ADA72E\"', 40)\n",
      "('\"02E5A4136FD0A775A023A005A4EABC62\"', 40)\n",
      "('\"9DFBCD218E7116F34C044F0680A0FB8A\"', 39)\n",
      "('\"8DEB70907D00AA1D7FF5E2683240549B\"', 39)\n",
      "('\"7989C2AB3F345F4AB54D3CF1E0480D67\"', 39)\n",
      "('\"6C9F67DF658DC5636F9E7752F203F70A\"', 39)\n"
     ]
    }
   ],
   "source": [
    "taxiParse = taxi.map(lambda line: line.split(\",\"))\n",
    "taxiMedKey = taxiParse.map(lambda row: (row[6], 1))\n",
    "taxiMedCounts = taxiMedKey.reduceByKey(lambda v1, v2: v1+v2)\n",
    "top10 = taxiMedCounts.map(lambda x: x[::-1]).top(10)\n",
    "for x in top10:\n",
    "    print(x[::-1])"
   ]
  },
  {
   "cell_type": "code",
   "execution_count": 23,
   "id": "f536445e-c4a9-4012-903a-2d1c272b2646",
   "metadata": {},
   "outputs": [
    {
     "name": "stdout",
     "output_type": "stream",
     "text": [
      "Elapsed time: 9257292 ns\n",
      "Elapsed time: 8161220 ns\n"
     ]
    }
   ],
   "source": [
    "taxiCounts = taxi.map(lambda line: line.split(\",\")).map(lambda row: (row[6],1)).reduceByKey(lambda a,b: a + b)\n",
    "taxiCounts.cache()\n",
    "time(lambda: taxiCounts.count())\n",
    "time(lambda: taxiCounts.count())"
   ]
  },
  {
   "cell_type": "code",
   "execution_count": null,
   "id": "cb2f31c6-6b0a-49cf-8906-1df36931216a",
   "metadata": {},
   "outputs": [],
   "source": []
  }
 ],
 "metadata": {
  "kernelspec": {
   "display_name": "Python 3",
   "language": "python",
   "name": "python3"
  },
  "language_info": {
   "codemirror_mode": {
    "name": "ipython",
    "version": 3
   },
   "file_extension": ".py",
   "mimetype": "text/x-python",
   "name": "python",
   "nbconvert_exporter": "python",
   "pygments_lexer": "ipython3",
   "version": "3.9.5"
  }
 },
 "nbformat": 4,
 "nbformat_minor": 5
}
