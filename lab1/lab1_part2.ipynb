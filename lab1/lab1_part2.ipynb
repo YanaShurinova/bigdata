{
 "cells": [
  {
   "cell_type": "code",
   "execution_count": 1,
   "id": "e1a6feae-e4f0-4719-b959-69452671080b",
   "metadata": {},
   "outputs": [],
   "source": [
    "from pyspark import SparkContext, SparkConf \n",
    "from pyspark.sql import SparkSession\n",
    "import pyspark.sql as sql\n",
    "from datetime import datetime\n",
    "from typing import NamedTuple\n",
    "import pyspark.sql.functions as f"
   ]
  },
  {
   "cell_type": "code",
   "execution_count": 2,
   "id": "593ab232-2533-489d-805c-ba25f8ab40ae",
   "metadata": {},
   "outputs": [],
   "source": [
    "conf = SparkConf().setAppName(\"Lab1\").setMaster('yarn')\n",
    "sc = SparkContext(conf=conf)\n",
    "spark = SparkSession(sc)"
   ]
  },
  {
   "cell_type": "code",
   "execution_count": 35,
   "id": "32ddb308-4206-4783-ae13-a26fb0304122",
   "metadata": {},
   "outputs": [
    {
     "data": {
      "text/plain": [
       "'id,duration,start_date,start_station_name,start_station_id,end_date,end_station_name,end_station_id,bike_id,subscription_type,zip_code'"
      ]
     },
     "execution_count": 35,
     "metadata": {},
     "output_type": "execute_result"
    }
   ],
   "source": [
    "trip_data = sc.textFile(\"trip.csv\")\n",
    "station_data = sc.textFile(\"station.csv\")\n",
    "trip_data.first()"
   ]
  },
  {
   "cell_type": "code",
   "execution_count": 36,
   "id": "5813a1fe-0bec-4caa-b585-8d55ce7ce2b2",
   "metadata": {},
   "outputs": [],
   "source": [
    "def initStation(stations):\n",
    "    class Station(NamedTuple):\n",
    "        station_id: int\n",
    "        name: str\n",
    "        lat: float\n",
    "        long: float\n",
    "        dockcount: int\n",
    "        landmark: str\n",
    "        installation: str\n",
    "    \n",
    "    for station in stations:\n",
    "        try:\n",
    "            yield Station(\n",
    "                station_id = int(station[0]),\n",
    "                name = station[1],\n",
    "                lat = float(station[2]),\n",
    "                long = float(station[3]),\n",
    "                dockcount = int(station[4]),\n",
    "                landmark = station[5],\n",
    "                installation = datetime.strptime(station[6], '%m/%d/%Y')\n",
    "            )\n",
    "        except:\n",
    "            pass"
   ]
  },
  {
   "cell_type": "code",
   "execution_count": 37,
   "id": "8f42ba13-2ff5-4fcb-8f43-e84052c4723d",
   "metadata": {},
   "outputs": [],
   "source": [
    "def initTrip(trips):\n",
    "    class Trip(NamedTuple):\n",
    "        trip_id: int\n",
    "        duration: int\n",
    "        start_date: datetime\n",
    "        start_station_name: str\n",
    "        start_station_id: int\n",
    "        end_date: datetime\n",
    "        end_station_name: str\n",
    "        end_station_id: int\n",
    "        bike_id: int\n",
    "        subscription_type: str\n",
    "        zip_code: str\n",
    "        \n",
    "    for trip in trips:\n",
    "        try:\n",
    "            yield Trip(                             \n",
    "                 trip_id = int(trip[0]),\n",
    "                 duration = int(trip[1]),\n",
    "                 start_date = datetime.strptime(trip[2], '%m/%d/%Y %H:%M'),\n",
    "                 start_station_name = trip[3],\n",
    "                 start_station_id = int(trip[4]),\n",
    "                 end_date = datetime.strptime(trip[5], '%m/%d/%Y %H:%M'),\n",
    "                 end_station_name = trip[6],\n",
    "                 end_station_id = trip[7],\n",
    "                 bike_id = int(trip[8]),\n",
    "                 subscription_type = trip[9],\n",
    "                 zip_code = trip[10]\n",
    "            )\n",
    "        except:\n",
    "            pass"
   ]
  },
  {
   "cell_type": "code",
   "execution_count": 38,
   "id": "eb693e2b-1670-44f6-9164-ed56f1176faa",
   "metadata": {},
   "outputs": [],
   "source": [
    "trip_headers = trip_data.first()\n",
    "station_headers = station_data.first()"
   ]
  },
  {
   "cell_type": "code",
   "execution_count": 39,
   "id": "14108a7b-ba21-4b52-9f8b-f2b60acb3cfa",
   "metadata": {},
   "outputs": [
    {
     "data": {
      "text/plain": [
       "['4576',\n",
       " '63',\n",
       " '8/29/2013 14:13',\n",
       " 'South Van Ness at Market',\n",
       " '66',\n",
       " '8/29/2013 14:14',\n",
       " 'South Van Ness at Market',\n",
       " '66',\n",
       " '520',\n",
       " 'Subscriber',\n",
       " '94127']"
      ]
     },
     "execution_count": 39,
     "metadata": {},
     "output_type": "execute_result"
    }
   ],
   "source": [
    "trip = trip_data.filter(lambda row: row != trip_headers).map(lambda row: row.split(\",\", -1))\n",
    "station = station_data.filter(lambda row: row != station_headers).map(lambda row: row.split(\",\", -1))\n",
    "trip.first()"
   ]
  },
  {
   "cell_type": "code",
   "execution_count": 40,
   "id": "fd4d36db-aba4-49a3-b89a-66029f05d018",
   "metadata": {},
   "outputs": [
    {
     "data": {
      "text/plain": [
       "Trip(trip_id=4576, duration=63, start_date=datetime.datetime(2013, 8, 29, 14, 13), start_station_name='South Van Ness at Market', start_station_id=66, end_date=datetime.datetime(2013, 8, 29, 14, 14), end_station_name='South Van Ness at Market', end_station_id='66', bike_id=520, subscription_type='Subscriber', zip_code='94127')"
      ]
     },
     "execution_count": 40,
     "metadata": {},
     "output_type": "execute_result"
    }
   ],
   "source": [
    "trip_internal = trip.mapPartitions(initTrip)\n",
    "station_internal = station.mapPartitions(initStation)\n",
    "trip_internal.first()"
   ]
  },
  {
   "cell_type": "markdown",
   "id": "8c5d6042-9650-4f19-a2c2-c92126edb268",
   "metadata": {},
   "source": [
    "Найти велосипед с максимальным временем пробега."
   ]
  },
  {
   "cell_type": "code",
   "execution_count": 60,
   "id": "4b5b04d7-4012-40e9-b8f1-9e72eac63f1f",
   "metadata": {},
   "outputs": [],
   "source": [
    "# складываем все продолжительности одного bike_id и берем bike_id с максимальной суммой\n",
    "bike_max_duration_id = trip_internal.map(lambda x: (x.bike_id, x.duration)) \\\n",
    "                                    .reduceByKey(lambda a,b:a+b).reduce(lambda a,b: a if a[1]>b[1] else b)[0]"
   ]
  },
  {
   "cell_type": "code",
   "execution_count": 61,
   "id": "fbc3564e-a7f7-405a-8f9b-5bbf48ab542b",
   "metadata": {},
   "outputs": [
    {
     "data": {
      "text/plain": [
       "535"
      ]
     },
     "execution_count": 61,
     "metadata": {},
     "output_type": "execute_result"
    }
   ],
   "source": [
    "bike_max_duration_id"
   ]
  },
  {
   "cell_type": "markdown",
   "id": "44c425a1-b28d-4e19-9aaa-a1f4cc097568",
   "metadata": {},
   "source": [
    "Найти наибольшее геодезическое расстояние между станциями."
   ]
  },
  {
   "cell_type": "code",
   "execution_count": 62,
   "id": "9a121fbd-fd65-4ff7-8a63-76e16fc7412b",
   "metadata": {
    "tags": []
   },
   "outputs": [
    {
     "data": {
      "text/plain": [
       "0.7058482821754397"
      ]
     },
     "execution_count": 62,
     "metadata": {},
     "output_type": "execute_result"
    }
   ],
   "source": [
    "def distance(x,y):\n",
    "    return ((x.lat-y.lat)**2+(x.long-y.long)**2)**0.5\n",
    "\n",
    "max_distance = station_internal.cartesian(station_internal).map(lambda x:  distance(x[0], x[1])).max()\n",
    "max_distance"
   ]
  },
  {
   "cell_type": "markdown",
   "id": "d8b47275-2856-460c-8611-ce0f182a7016",
   "metadata": {},
   "source": [
    "Найти путь велосипеда с максимальным временем пробега через станции."
   ]
  },
  {
   "cell_type": "code",
   "execution_count": 63,
   "id": "0bd6e01d-9f68-410b-88ab-d91111e2422a",
   "metadata": {},
   "outputs": [
    {
     "name": "stdout",
     "output_type": "stream",
     "text": [
      "['San Francisco Caltrain 2 (330 Townsend)', 'Market at Sansome', '2nd at South Park', 'Davis at Jackson', 'Post at Kearney', 'Embarcadero at Sansome', 'Clay at Battery', 'Harry Bridges Plaza (Ferry Building)', 'Steuart at Market', 'Townsend at 7th', 'Powell at Post (Union Square)', 'Market at 4th', 'Beale at Market', 'Powell Street BART', 'San Francisco City Hall', 'Embarcadero at Vallejo', 'Yerba Buena Center of the Arts (3rd @ Howard)', 'Howard at 2nd', 'Commercial at Montgomery', 'Grant Avenue at Columbus Avenue', 'Broadway St at Battery St', 'Post at Kearny', 'San Francisco Caltrain (Townsend at 4th)', 'Spear at Folsom', 'Temporary Transbay Terminal (Howard at Beale)', '5th at Howard', 'Civic Center BART (7th at Market)', 'Market at 10th', '2nd at Folsom', 'South Van Ness at Market', 'Mechanics Plaza (Market at Battery)', 'Embarcadero at Folsom', '2nd at Townsend', 'Embarcadero at Bryant', 'Golden Gate at Polk', 'Washington at Kearny', 'Washington at Kearney']\n"
     ]
    }
   ],
   "source": [
    "# берем все поездки велосипеда с максимальным пробегом и выделяем имена стартовой и конечной станциями\n",
    "path_max_duration = trip_internal.filter(lambda x:x.bike_id==bike_max_duration_id).sortBy(lambda x: x.start_date).map(lambda x: x.end_station_name).distinct().collect()\n",
    "print(path_max_duration)"
   ]
  },
  {
   "cell_type": "markdown",
   "id": "2b84c32f-1d9e-4664-93a1-e6db159170bd",
   "metadata": {},
   "source": [
    "Найти количество велосипедов в системе."
   ]
  },
  {
   "cell_type": "code",
   "execution_count": 45,
   "id": "b7fa782b-c622-44e8-ad0e-9191b2a47ccc",
   "metadata": {},
   "outputs": [
    {
     "name": "stdout",
     "output_type": "stream",
     "text": [
      "700\n"
     ]
    }
   ],
   "source": [
    "bike_count = trip_internal.map(lambda x: x.bike_id).distinct().count()\n",
    "print(bike_count)"
   ]
  },
  {
   "cell_type": "markdown",
   "id": "dfa0452b-5db5-420b-8354-6cd3e4e41ab0",
   "metadata": {},
   "source": [
    "Найти пользователей потративших на поездки более 3 часов."
   ]
  },
  {
   "cell_type": "code",
   "execution_count": 58,
   "id": "d3195000-c8d3-46fe-a7e9-c7836f623c8a",
   "metadata": {},
   "outputs": [
    {
     "data": {
      "text/plain": [
       "['95138',\n",
       " '95060',\n",
       " '95112',\n",
       " '94041',\n",
       " '94122',\n",
       " '94117',\n",
       " '95819',\n",
       " '94114',\n",
       " '94102',\n",
       " '94612']"
      ]
     },
     "execution_count": 58,
     "metadata": {},
     "output_type": "execute_result"
    }
   ],
   "source": [
    "clients = trip_internal.map(lambda x: (x.zip_code, x.duration)).reduceByKey(lambda a,b: a+b).filter(lambda x: x[1]>3*60*60).map(lambda x:x[0])\n",
    "clients.take(10)"
   ]
  },
  {
   "cell_type": "code",
   "execution_count": 59,
   "id": "aadf5642-02cb-4315-98dd-977d84aabc5e",
   "metadata": {},
   "outputs": [
    {
     "data": {
      "text/plain": [
       "3661"
      ]
     },
     "execution_count": 59,
     "metadata": {},
     "output_type": "execute_result"
    }
   ],
   "source": [
    "clients.count()"
   ]
  },
  {
   "cell_type": "code",
   "execution_count": null,
   "id": "9e708e0f-455a-4826-8753-00d87ff2fce0",
   "metadata": {},
   "outputs": [],
   "source": []
  }
 ],
 "metadata": {
  "kernelspec": {
   "display_name": "Python 3",
   "language": "python",
   "name": "python3"
  },
  "language_info": {
   "codemirror_mode": {
    "name": "ipython",
    "version": 3
   },
   "file_extension": ".py",
   "mimetype": "text/x-python",
   "name": "python",
   "nbconvert_exporter": "python",
   "pygments_lexer": "ipython3",
   "version": "3.9.5"
  }
 },
 "nbformat": 4,
 "nbformat_minor": 5
}
