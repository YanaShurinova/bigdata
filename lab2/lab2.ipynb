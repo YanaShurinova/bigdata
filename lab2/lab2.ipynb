{
 "cells": [
  {
   "cell_type": "code",
   "execution_count": 1,
   "id": "b458954a-9760-4dd7-8800-0deb3a3f3f5b",
   "metadata": {},
   "outputs": [],
   "source": [
    "import pyspark\n",
    "import os\n",
    "from pyspark import SparkContext, SparkConf \n",
    "from pyspark.sql import SparkSession\n",
    "import pyspark.sql as sql\n",
    "from datetime import datetime\n",
    "from typing import NamedTuple"
   ]
  },
  {
   "cell_type": "code",
   "execution_count": 2,
   "id": "d1e91f63-5819-4627-81df-c4a805ea19f3",
   "metadata": {},
   "outputs": [],
   "source": [
    "os.environ['PYSPARK_SUBMIT_ARGS']='--packages com.databricks:spark-xml_2.12:0.13.0 pyspark-shell'\n",
    "sc = SparkSession.builder.appName(\"Lab1\").master(\"yarn\").getOrCreate()"
   ]
  },
  {
   "cell_type": "code",
   "execution_count": 3,
   "id": "1182fcd9-1cfa-4957-b243-118cfe9dc4b1",
   "metadata": {},
   "outputs": [
    {
     "data": {
      "text/plain": [
       "['a# .net',\n",
       " 'a# (axiom)',\n",
       " 'a-0 system',\n",
       " 'a+',\n",
       " 'a++',\n",
       " 'abap',\n",
       " 'abc',\n",
       " 'abc algol',\n",
       " 'abset',\n",
       " 'absys']"
      ]
     },
     "execution_count": 3,
     "metadata": {},
     "output_type": "execute_result"
    }
   ],
   "source": [
    "programming_languages = sc.read.csv(\"programming-languages.csv\")\n",
    "programming_languages = [str(x[0]).lower() for x in programming_languages.collect()]\n",
    "programming_languages[1:11]"
   ]
  },
  {
   "cell_type": "code",
   "execution_count": 4,
   "id": "bf642f69-8e98-47ca-8621-d1845cae5e1f",
   "metadata": {},
   "outputs": [
    {
     "data": {
      "text/plain": [
       "Row(_AcceptedAnswerId=7, _AnswerCount=13, _Body=\"<p>I want to use a track-bar to change a form's opacity.</p>\\n\\n<p>This is my code:</p>\\n\\n<pre><code>decimal trans = trackBar1.Value / 5000;\\nthis.Opacity = trans;\\n</code></pre>\\n\\n<p>When I build the application, it gives the following error:</p>\\n\\n<blockquote>\\n  <p>Cannot implicitly convert type <code>'decimal'</code> to <code>'double'</code></p>\\n</blockquote>\\n\\n<p>I tried using <code>trans</code> and <code>double</code> but then the control doesn't work. This code worked fine in a past VB.NET project.</p>\\n\", _ClosedDate=None, _CommentCount=2, _CommunityOwnedDate=datetime.datetime(2012, 10, 31, 20, 42, 47, 213000), _CreationDate=datetime.datetime(2008, 8, 1, 2, 42, 52, 667000), _FavoriteCount=48, _Id=4, _LastActivityDate=datetime.datetime(2019, 7, 19, 5, 39, 54, 173000), _LastEditDate=datetime.datetime(2019, 7, 19, 5, 39, 54, 173000), _LastEditorDisplayName='Rich B', _LastEditorUserId=3641067, _OwnerDisplayName=None, _OwnerUserId=8, _ParentId=None, _PostTypeId=1, _Score=630, _Tags='<c#><floating-point><type-conversion><double><decimal>', _Title='Convert Decimal to Double?', _ViewCount=42817)"
      ]
     },
     "execution_count": 4,
     "metadata": {},
     "output_type": "execute_result"
    }
   ],
   "source": [
    "post_sample = sc.read.format(\"xml\").options(rowTag=\"row\").load(\"posts_sample.xml\")\n",
    "post_sample.first()"
   ]
  },
  {
   "cell_type": "code",
   "execution_count": 10,
   "id": "a64c4d42-1a3b-4390-8f3e-8be6cc381539",
   "metadata": {},
   "outputs": [],
   "source": [
    "def find_language(x):\n",
    "    for l in programming_languages:\n",
    "        if \"<\" + l + \">\" in x._Tags.lower():\n",
    "            return (x._Id, l)\n",
    "    return None\n",
    "\n",
    "def isValid(x, y):\n",
    "    if x._Tags is None:\n",
    "        return False\n",
    "    return x._CreationDate>=datetime(year=y, month=1, day=1) and datetime(year=y, month=12, day=31)>=x._CreationDate\n",
    "    "
   ]
  },
  {
   "cell_type": "code",
   "execution_count": 11,
   "id": "398fc7bb-f007-4e4c-a8c1-48a6577dc053",
   "metadata": {},
   "outputs": [
    {
     "name": "stdout",
     "output_type": "stream",
     "text": [
      "+-----------+---------+\n",
      "|   Language|Year_2010|\n",
      "+-----------+---------+\n",
      "|       java|       52|\n",
      "| javascript|       44|\n",
      "|        php|       42|\n",
      "|     python|       25|\n",
      "|objective-c|       22|\n",
      "|          c|       20|\n",
      "|       ruby|       11|\n",
      "|     delphi|        7|\n",
      "|applescript|        3|\n",
      "|          r|        3|\n",
      "+-----------+---------+\n",
      "\n",
      "+-----------+---------+\n",
      "|   Language|Year_2011|\n",
      "+-----------+---------+\n",
      "|        php|       97|\n",
      "|       java|       92|\n",
      "| javascript|       82|\n",
      "|     python|       35|\n",
      "|objective-c|       33|\n",
      "|          c|       24|\n",
      "|       ruby|       17|\n",
      "|       perl|        8|\n",
      "|     delphi|        8|\n",
      "|       bash|        7|\n",
      "+-----------+---------+\n",
      "\n",
      "+-----------+---------+\n",
      "|   Language|Year_2012|\n",
      "+-----------+---------+\n",
      "|        php|      136|\n",
      "| javascript|      129|\n",
      "|       java|      124|\n",
      "|     python|       65|\n",
      "|objective-c|       45|\n",
      "|          c|       27|\n",
      "|       ruby|       25|\n",
      "|       bash|        9|\n",
      "|          r|        9|\n",
      "|     matlab|        6|\n",
      "+-----------+---------+\n",
      "\n",
      "+-----------+---------+\n",
      "|   Language|Year_2013|\n",
      "+-----------+---------+\n",
      "| javascript|      196|\n",
      "|       java|      191|\n",
      "|        php|      173|\n",
      "|     python|       87|\n",
      "|objective-c|       40|\n",
      "|          c|       36|\n",
      "|       ruby|       30|\n",
      "|          r|       25|\n",
      "|       bash|       11|\n",
      "|      scala|       10|\n",
      "+-----------+---------+\n",
      "\n",
      "+-----------+---------+\n",
      "|   Language|Year_2014|\n",
      "+-----------+---------+\n",
      "| javascript|      235|\n",
      "|       java|      228|\n",
      "|        php|      154|\n",
      "|     python|      103|\n",
      "|          c|       52|\n",
      "|objective-c|       49|\n",
      "|          r|       28|\n",
      "|       ruby|       20|\n",
      "|     matlab|       16|\n",
      "|       bash|       13|\n",
      "+-----------+---------+\n",
      "\n",
      "+-----------+---------+\n",
      "|   Language|Year_2015|\n",
      "+-----------+---------+\n",
      "| javascript|      268|\n",
      "|       java|      208|\n",
      "|        php|      147|\n",
      "|     python|      119|\n",
      "|          r|       43|\n",
      "|          c|       38|\n",
      "|objective-c|       30|\n",
      "|       ruby|       20|\n",
      "|     matlab|       16|\n",
      "|      scala|       13|\n",
      "+-----------+---------+\n",
      "\n",
      "+----------+---------+\n",
      "|  Language|Year_2016|\n",
      "+----------+---------+\n",
      "|javascript|      271|\n",
      "|      java|      178|\n",
      "|    python|      140|\n",
      "|       php|      126|\n",
      "|         r|       50|\n",
      "|         c|       32|\n",
      "|      ruby|       21|\n",
      "|      bash|       16|\n",
      "|     scala|       16|\n",
      "|    matlab|       15|\n",
      "+----------+---------+\n",
      "\n",
      "+-----------+---------+\n",
      "|   Language|Year_2017|\n",
      "+-----------+---------+\n",
      "| javascript|      244|\n",
      "|       java|      204|\n",
      "|     python|      185|\n",
      "|        php|      122|\n",
      "|          r|       53|\n",
      "|          c|       24|\n",
      "|objective-c|       19|\n",
      "|       ruby|       16|\n",
      "| powershell|       14|\n",
      "| typescript|       14|\n",
      "+-----------+---------+\n",
      "\n",
      "+----------+---------+\n",
      "|  Language|Year_2018|\n",
      "+----------+---------+\n",
      "|    python|      214|\n",
      "|javascript|      194|\n",
      "|      java|      145|\n",
      "|       php|       99|\n",
      "|         r|       63|\n",
      "|         c|       24|\n",
      "|     scala|       22|\n",
      "|typescript|       21|\n",
      "|powershell|       13|\n",
      "|      bash|       12|\n",
      "+----------+---------+\n",
      "\n",
      "+----------+---------+\n",
      "|  Language|Year_2019|\n",
      "+----------+---------+\n",
      "|    python|      162|\n",
      "|javascript|      131|\n",
      "|      java|       95|\n",
      "|       php|       59|\n",
      "|         r|       36|\n",
      "|         c|       14|\n",
      "|    matlab|        9|\n",
      "|        go|        9|\n",
      "|    kotlin|        9|\n",
      "|      dart|        9|\n",
      "+----------+---------+\n",
      "\n"
     ]
    }
   ],
   "source": [
    "from pyspark.sql.functions import col\n",
    "res = {}\n",
    "for y in range(2010,2020):\n",
    "    res[y]=(post_sample.rdd.filter(lambda x: isValid(x,y))\\\n",
    "               .map(find_language).filter(lambda x: x is not None).keyBy(lambda x: x[1])\\\n",
    "               .aggregateByKey(0,lambda x,y:x+1, lambda d,z:d+z).sortBy(lambda x:x[1],ascending=False).toDF())\\\n",
    "               .select(col(\"_1\").alias(\"Language\"), col(\"_2\").alias(\"Year_{0}\".format(y))).limit(10)\n",
    "    res[y].show()"
   ]
  },
  {
   "cell_type": "code",
   "execution_count": 65,
   "id": "15fcb3ae-256a-407d-b9a6-2868d485df61",
   "metadata": {},
   "outputs": [],
   "source": [
    "for i in result.keys():\n",
    "    result[i].write.format(\"parquet\").save(\"{0}\".format(i))"
   ]
  },
  {
   "cell_type": "code",
   "execution_count": null,
   "id": "eb80c7c7-3b50-4cc4-9c34-11d668ed35ca",
   "metadata": {},
   "outputs": [],
   "source": []
  }
 ],
 "metadata": {
  "kernelspec": {
   "display_name": "Python 3",
   "language": "python",
   "name": "python3"
  },
  "language_info": {
   "codemirror_mode": {
    "name": "ipython",
    "version": 3
   },
   "file_extension": ".py",
   "mimetype": "text/x-python",
   "name": "python",
   "nbconvert_exporter": "python",
   "pygments_lexer": "ipython3",
   "version": "3.9.5"
  }
 },
 "nbformat": 4,
 "nbformat_minor": 5
}
